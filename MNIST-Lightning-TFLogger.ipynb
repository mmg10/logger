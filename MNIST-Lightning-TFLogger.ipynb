{
 "cells": [
  {
   "cell_type": "code",
   "execution_count": 1,
   "metadata": {
    "ExecuteTime": {
     "end_time": "2021-03-16T16:27:38.395058Z",
     "start_time": "2021-03-16T16:27:38.388682Z"
    }
   },
   "outputs": [],
   "source": [
    "import torch\n",
    "import torch.nn as nn\n",
    "import torch.nn.functional as F\n",
    "import torchvision\n",
    "import torchvision.transforms as transforms\n",
    "import pandas as pd\n",
    "import numpy as np\n",
    "import os\n",
    "import matplotlib.pyplot as plt\n",
    "\n",
    "import pytorch_lightning as pl\n",
    "import torchmetrics\n",
    "\n",
    "from pytorch_lightning.loggers import TensorBoardLogger"
   ]
  },
  {
   "cell_type": "code",
   "execution_count": 2,
   "metadata": {
    "ExecuteTime": {
     "end_time": "2021-03-16T16:27:38.464439Z",
     "start_time": "2021-03-16T16:27:38.397599Z"
    }
   },
   "outputs": [
    {
     "data": {
      "application/javascript": [
       "IPython.notebook.kernel.execute('notebook = \"' + IPython.notebook.notebook_name + '\"')\n"
      ],
      "text/plain": [
       "<IPython.core.display.Javascript object>"
      ]
     },
     "metadata": {},
     "output_type": "display_data"
    }
   ],
   "source": [
    "%%javascript\n",
    "IPython.notebook.kernel.execute('notebook = \"' + IPython.notebook.notebook_name + '\"')"
   ]
  },
  {
   "cell_type": "code",
   "execution_count": 3,
   "metadata": {
    "ExecuteTime": {
     "end_time": "2021-03-16T16:27:38.525089Z",
     "start_time": "2021-03-16T16:27:38.466944Z"
    }
   },
   "outputs": [
    {
     "data": {
      "text/plain": [
       "'MNIST-Lightning-TFLogger.ipynb'"
      ]
     },
     "execution_count": 3,
     "metadata": {},
     "output_type": "execute_result"
    }
   ],
   "source": [
    "notebook"
   ]
  },
  {
   "cell_type": "code",
   "execution_count": 4,
   "metadata": {
    "ExecuteTime": {
     "end_time": "2021-03-16T16:27:38.575436Z",
     "start_time": "2021-03-16T16:27:38.527236Z"
    }
   },
   "outputs": [],
   "source": [
    "class CNN_pl(pl.LightningModule):\n",
    "    def __init__(self):\n",
    "        super(CNN_pl, self).__init__()\n",
    "        \n",
    "        self.loss = nn.CrossEntropyLoss()\n",
    "        self.lr = 0.01\n",
    "        \n",
    "        self.train_accm = torchmetrics.Accuracy()\n",
    "        self.valid_accm = torchmetrics.Accuracy()\n",
    "        self.train_acc = 0.\n",
    "        self.avg_train_loss = 0.\n",
    "        \n",
    "        self.model = nn.Sequential(\n",
    "            nn.Flatten(),\n",
    "            nn.Linear(1 * 28 * 28, 64),\n",
    "            nn.ReLU(),\n",
    "            nn.Dropout(0.1),\n",
    "            nn.Linear(64, 64),\n",
    "            nn.ReLU(),\n",
    "            nn.Dropout(0.1),\n",
    "            nn.Linear(64, 10)\n",
    "        )\n",
    "            \n",
    "    def forward(self, X):\n",
    "        X = self.model(X)\n",
    "        return X\n",
    "    \n",
    "    def configure_optimizers(self):\n",
    "        optim = torch.optim.Adam(self.parameters())\n",
    "        return optim\n",
    "    \n",
    "    def training_step(self, batch, batch_idx):\n",
    "        inputs, targets = batch\n",
    "        output = self(inputs)\n",
    "        loss_train = self.loss(output, targets)\n",
    "        predictions = torch.argmax(output, dim=1)\n",
    "        acc_train = self.train_accm(predictions, targets)\n",
    "        return loss_train\n",
    "    \n",
    "    def validation_step(self, batch, batch_idx):\n",
    "        inputs, targets = batch\n",
    "        output = self(inputs)\n",
    "        loss_valid = self.loss(output, targets)\n",
    "        predictions = torch.argmax(output, dim=1)\n",
    "        acc_valid = self.valid_accm(predictions, targets)\n",
    "        return {\"loss\": loss_valid, \"p\": predictions, \"y\": targets}\n",
    "    \n",
    "    def training_epoch_end(self, outputs):\n",
    "        self.train_acc = self.train_accm.compute() * 100\n",
    "        self.avg_train_loss = torch.stack([x['loss'] for x in outputs]).mean()\n",
    "        self.logger.experiment.add_scalar('Train Loss', self.avg_train_loss, self.current_epoch+1)\n",
    "        self.logger.experiment.add_scalar('Train Acc', self.train_acc, self.current_epoch+1)\n",
    "        self.train_accm.reset()\n",
    "        \n",
    "    def validation_epoch_end(self, outputs):\n",
    "        valid_acc = self.valid_accm.compute() * 100\n",
    "        avg_valid_loss = torch.stack([x['loss'] for x in outputs]).mean()\n",
    "        print(f'Epoch {self.current_epoch+1}/{self.trainer.max_epochs} : Train Accuracy: {self.train_acc:.2f}%, Valid Accuracy: {valid_acc:.2f}%, Avg. Train Loss: {self.avg_train_loss:.4f}, Avg. Valid Loss: {avg_valid_loss:.4f}')\n",
    "        self.logger.experiment.add_scalar('Valid Loss', avg_valid_loss, self.current_epoch+1)\n",
    "        self.logger.experiment.add_scalar('Valid Acc', valid_acc, self.current_epoch+1)\n",
    "        self.valid_accm.reset()\n",
    "        if self.current_epoch == self.trainer.max_epochs - 1:\n",
    "            self.validation_end(outputs)\n",
    "    \n",
    "    def validation_end(self, outputs):\n",
    "        pb = [x['p'] for x in outputs]\n",
    "        yb = [x['y'] for x in outputs]\n",
    "        p = torch.cat(pb, 0).view(-1)\n",
    "        y = torch.cat(yb, 0).view(-1)\n",
    "    \n",
    "    def prepare_data(self):\n",
    "        self.train_dataset = torchvision.datasets.MNIST(\n",
    "                    root='.',\n",
    "                    train=True,\n",
    "                    transform=transforms.ToTensor(),\n",
    "                    download=True\n",
    "                    )\n",
    "        self.test_dataset  = torchvision.datasets.MNIST(\n",
    "                    root='.',\n",
    "                    train=False,\n",
    "                    transform=transforms.ToTensor(),\n",
    "                    download=True\n",
    "                    )\n",
    "        \n",
    "    def train_dataloader(self):\n",
    "        train_ds = torch.utils.data.DataLoader(self.train_dataset,\n",
    "                                               batch_size= 32,\n",
    "                                               shuffle=True,\n",
    "                                               num_workers=4)\n",
    "        return train_ds\n",
    "    \n",
    "    def val_dataloader(self):\n",
    "        test_ds = torch.utils.data.DataLoader(self.test_dataset,\n",
    "                                               batch_size= 32,\n",
    "                                               shuffle=False,\n",
    "                                               num_workers=4)\n",
    "        return test_ds"
   ]
  },
  {
   "cell_type": "code",
   "execution_count": 5,
   "metadata": {
    "ExecuteTime": {
     "end_time": "2021-03-16T16:28:16.605167Z",
     "start_time": "2021-03-16T16:27:38.577007Z"
    }
   },
   "outputs": [
    {
     "name": "stderr",
     "output_type": "stream",
     "text": [
      "GPU available: False, used: False\n",
      "TPU available: None, using: 0 TPU cores\n",
      "\n",
      "  | Name       | Type             | Params\n",
      "------------------------------------------------\n",
      "0 | loss       | CrossEntropyLoss | 0     \n",
      "1 | train_accm | Accuracy         | 0     \n",
      "2 | valid_accm | Accuracy         | 0     \n",
      "3 | model      | Sequential       | 55.1 K\n",
      "------------------------------------------------\n",
      "55.1 K    Trainable params\n",
      "0         Non-trainable params\n",
      "55.1 K    Total params\n",
      "0.220     Total estimated model params size (MB)\n"
     ]
    },
    {
     "data": {
      "application/vnd.jupyter.widget-view+json": {
       "model_id": "",
       "version_major": 2,
       "version_minor": 0
      },
      "text/plain": [
       "Validation sanity check: 0it [00:00, ?it/s]"
      ]
     },
     "metadata": {},
     "output_type": "display_data"
    },
    {
     "name": "stdout",
     "output_type": "stream",
     "text": [
      "Epoch 1/20 : Train Accuracy: 0.00%, Valid Accuracy: 6.25%, Avg. Train Loss: 0.0000, Avg. Valid Loss: 2.3103\n"
     ]
    },
    {
     "data": {
      "application/vnd.jupyter.widget-view+json": {
       "model_id": "422ea40b0b4140d9a5ac7e0db12f3610",
       "version_major": 2,
       "version_minor": 0
      },
      "text/plain": [
       "Training: 0it [00:00, ?it/s]"
      ]
     },
     "metadata": {},
     "output_type": "display_data"
    },
    {
     "data": {
      "application/vnd.jupyter.widget-view+json": {
       "model_id": "",
       "version_major": 2,
       "version_minor": 0
      },
      "text/plain": [
       "Validating: 0it [00:00, ?it/s]"
      ]
     },
     "metadata": {},
     "output_type": "display_data"
    },
    {
     "name": "stdout",
     "output_type": "stream",
     "text": [
      "Epoch 1/20 : Train Accuracy: 88.71%, Valid Accuracy: 95.15%, Avg. Train Loss: 0.3731, Avg. Valid Loss: 0.1611\n"
     ]
    },
    {
     "data": {
      "application/vnd.jupyter.widget-view+json": {
       "model_id": "",
       "version_major": 2,
       "version_minor": 0
      },
      "text/plain": [
       "Validating: 0it [00:00, ?it/s]"
      ]
     },
     "metadata": {},
     "output_type": "display_data"
    },
    {
     "name": "stdout",
     "output_type": "stream",
     "text": [
      "Epoch 2/20 : Train Accuracy: 94.74%, Valid Accuracy: 96.59%, Avg. Train Loss: 0.1771, Avg. Valid Loss: 0.1169\n"
     ]
    },
    {
     "data": {
      "application/vnd.jupyter.widget-view+json": {
       "model_id": "",
       "version_major": 2,
       "version_minor": 0
      },
      "text/plain": [
       "Validating: 0it [00:00, ?it/s]"
      ]
     },
     "metadata": {},
     "output_type": "display_data"
    },
    {
     "name": "stdout",
     "output_type": "stream",
     "text": [
      "Epoch 3/20 : Train Accuracy: 95.92%, Valid Accuracy: 97.05%, Avg. Train Loss: 0.1351, Avg. Valid Loss: 0.0946\n"
     ]
    },
    {
     "data": {
      "application/vnd.jupyter.widget-view+json": {
       "model_id": "",
       "version_major": 2,
       "version_minor": 0
      },
      "text/plain": [
       "Validating: 0it [00:00, ?it/s]"
      ]
     },
     "metadata": {},
     "output_type": "display_data"
    },
    {
     "name": "stdout",
     "output_type": "stream",
     "text": [
      "Epoch 4/20 : Train Accuracy: 96.48%, Valid Accuracy: 97.09%, Avg. Train Loss: 0.1126, Avg. Valid Loss: 0.0955\n"
     ]
    },
    {
     "data": {
      "application/vnd.jupyter.widget-view+json": {
       "model_id": "",
       "version_major": 2,
       "version_minor": 0
      },
      "text/plain": [
       "Validating: 0it [00:00, ?it/s]"
      ]
     },
     "metadata": {},
     "output_type": "display_data"
    },
    {
     "name": "stdout",
     "output_type": "stream",
     "text": [
      "Epoch 5/20 : Train Accuracy: 96.96%, Valid Accuracy: 97.18%, Avg. Train Loss: 0.0993, Avg. Valid Loss: 0.0891\n"
     ]
    },
    {
     "data": {
      "application/vnd.jupyter.widget-view+json": {
       "model_id": "",
       "version_major": 2,
       "version_minor": 0
      },
      "text/plain": [
       "Validating: 0it [00:00, ?it/s]"
      ]
     },
     "metadata": {},
     "output_type": "display_data"
    },
    {
     "name": "stdout",
     "output_type": "stream",
     "text": [
      "Epoch 6/20 : Train Accuracy: 97.20%, Valid Accuracy: 97.64%, Avg. Train Loss: 0.0886, Avg. Valid Loss: 0.0816\n"
     ]
    },
    {
     "data": {
      "application/vnd.jupyter.widget-view+json": {
       "model_id": "",
       "version_major": 2,
       "version_minor": 0
      },
      "text/plain": [
       "Validating: 0it [00:00, ?it/s]"
      ]
     },
     "metadata": {},
     "output_type": "display_data"
    },
    {
     "name": "stdout",
     "output_type": "stream",
     "text": [
      "Epoch 7/20 : Train Accuracy: 97.40%, Valid Accuracy: 97.59%, Avg. Train Loss: 0.0792, Avg. Valid Loss: 0.0841\n"
     ]
    },
    {
     "data": {
      "application/vnd.jupyter.widget-view+json": {
       "model_id": "",
       "version_major": 2,
       "version_minor": 0
      },
      "text/plain": [
       "Validating: 0it [00:00, ?it/s]"
      ]
     },
     "metadata": {},
     "output_type": "display_data"
    },
    {
     "name": "stdout",
     "output_type": "stream",
     "text": [
      "Epoch 8/20 : Train Accuracy: 97.59%, Valid Accuracy: 97.64%, Avg. Train Loss: 0.0748, Avg. Valid Loss: 0.0787\n"
     ]
    },
    {
     "data": {
      "application/vnd.jupyter.widget-view+json": {
       "model_id": "",
       "version_major": 2,
       "version_minor": 0
      },
      "text/plain": [
       "Validating: 0it [00:00, ?it/s]"
      ]
     },
     "metadata": {},
     "output_type": "display_data"
    },
    {
     "name": "stdout",
     "output_type": "stream",
     "text": [
      "Epoch 9/20 : Train Accuracy: 97.73%, Valid Accuracy: 97.48%, Avg. Train Loss: 0.0718, Avg. Valid Loss: 0.0837\n"
     ]
    },
    {
     "data": {
      "application/vnd.jupyter.widget-view+json": {
       "model_id": "",
       "version_major": 2,
       "version_minor": 0
      },
      "text/plain": [
       "Validating: 0it [00:00, ?it/s]"
      ]
     },
     "metadata": {},
     "output_type": "display_data"
    },
    {
     "name": "stdout",
     "output_type": "stream",
     "text": [
      "Epoch 10/20 : Train Accuracy: 97.87%, Valid Accuracy: 97.60%, Avg. Train Loss: 0.0664, Avg. Valid Loss: 0.0818\n"
     ]
    },
    {
     "data": {
      "application/vnd.jupyter.widget-view+json": {
       "model_id": "",
       "version_major": 2,
       "version_minor": 0
      },
      "text/plain": [
       "Validating: 0it [00:00, ?it/s]"
      ]
     },
     "metadata": {},
     "output_type": "display_data"
    },
    {
     "name": "stdout",
     "output_type": "stream",
     "text": [
      "Epoch 11/20 : Train Accuracy: 98.00%, Valid Accuracy: 97.66%, Avg. Train Loss: 0.0621, Avg. Valid Loss: 0.0825\n"
     ]
    },
    {
     "data": {
      "application/vnd.jupyter.widget-view+json": {
       "model_id": "",
       "version_major": 2,
       "version_minor": 0
      },
      "text/plain": [
       "Validating: 0it [00:00, ?it/s]"
      ]
     },
     "metadata": {},
     "output_type": "display_data"
    },
    {
     "name": "stdout",
     "output_type": "stream",
     "text": [
      "Epoch 12/20 : Train Accuracy: 98.05%, Valid Accuracy: 97.53%, Avg. Train Loss: 0.0601, Avg. Valid Loss: 0.0817\n"
     ]
    },
    {
     "data": {
      "application/vnd.jupyter.widget-view+json": {
       "model_id": "",
       "version_major": 2,
       "version_minor": 0
      },
      "text/plain": [
       "Validating: 0it [00:00, ?it/s]"
      ]
     },
     "metadata": {},
     "output_type": "display_data"
    },
    {
     "name": "stdout",
     "output_type": "stream",
     "text": [
      "Epoch 13/20 : Train Accuracy: 98.05%, Valid Accuracy: 97.71%, Avg. Train Loss: 0.0591, Avg. Valid Loss: 0.0834\n"
     ]
    },
    {
     "data": {
      "application/vnd.jupyter.widget-view+json": {
       "model_id": "",
       "version_major": 2,
       "version_minor": 0
      },
      "text/plain": [
       "Validating: 0it [00:00, ?it/s]"
      ]
     },
     "metadata": {},
     "output_type": "display_data"
    },
    {
     "name": "stdout",
     "output_type": "stream",
     "text": [
      "Epoch 14/20 : Train Accuracy: 98.24%, Valid Accuracy: 97.82%, Avg. Train Loss: 0.0550, Avg. Valid Loss: 0.0838\n"
     ]
    },
    {
     "data": {
      "application/vnd.jupyter.widget-view+json": {
       "model_id": "",
       "version_major": 2,
       "version_minor": 0
      },
      "text/plain": [
       "Validating: 0it [00:00, ?it/s]"
      ]
     },
     "metadata": {},
     "output_type": "display_data"
    },
    {
     "name": "stdout",
     "output_type": "stream",
     "text": [
      "Epoch 15/20 : Train Accuracy: 98.26%, Valid Accuracy: 97.75%, Avg. Train Loss: 0.0521, Avg. Valid Loss: 0.0861\n"
     ]
    },
    {
     "data": {
      "application/vnd.jupyter.widget-view+json": {
       "model_id": "",
       "version_major": 2,
       "version_minor": 0
      },
      "text/plain": [
       "Validating: 0it [00:00, ?it/s]"
      ]
     },
     "metadata": {},
     "output_type": "display_data"
    },
    {
     "name": "stdout",
     "output_type": "stream",
     "text": [
      "Epoch 16/20 : Train Accuracy: 98.30%, Valid Accuracy: 97.72%, Avg. Train Loss: 0.0528, Avg. Valid Loss: 0.0835\n"
     ]
    },
    {
     "data": {
      "application/vnd.jupyter.widget-view+json": {
       "model_id": "",
       "version_major": 2,
       "version_minor": 0
      },
      "text/plain": [
       "Validating: 0it [00:00, ?it/s]"
      ]
     },
     "metadata": {},
     "output_type": "display_data"
    },
    {
     "name": "stdout",
     "output_type": "stream",
     "text": [
      "Epoch 17/20 : Train Accuracy: 98.48%, Valid Accuracy: 97.80%, Avg. Train Loss: 0.0481, Avg. Valid Loss: 0.0897\n"
     ]
    },
    {
     "data": {
      "application/vnd.jupyter.widget-view+json": {
       "model_id": "",
       "version_major": 2,
       "version_minor": 0
      },
      "text/plain": [
       "Validating: 0it [00:00, ?it/s]"
      ]
     },
     "metadata": {},
     "output_type": "display_data"
    },
    {
     "name": "stdout",
     "output_type": "stream",
     "text": [
      "Epoch 18/20 : Train Accuracy: 98.39%, Valid Accuracy: 97.80%, Avg. Train Loss: 0.0485, Avg. Valid Loss: 0.0855\n"
     ]
    },
    {
     "data": {
      "application/vnd.jupyter.widget-view+json": {
       "model_id": "",
       "version_major": 2,
       "version_minor": 0
      },
      "text/plain": [
       "Validating: 0it [00:00, ?it/s]"
      ]
     },
     "metadata": {},
     "output_type": "display_data"
    },
    {
     "name": "stdout",
     "output_type": "stream",
     "text": [
      "Epoch 19/20 : Train Accuracy: 98.43%, Valid Accuracy: 97.99%, Avg. Train Loss: 0.0470, Avg. Valid Loss: 0.0845\n"
     ]
    },
    {
     "data": {
      "application/vnd.jupyter.widget-view+json": {
       "model_id": "",
       "version_major": 2,
       "version_minor": 0
      },
      "text/plain": [
       "Validating: 0it [00:00, ?it/s]"
      ]
     },
     "metadata": {},
     "output_type": "display_data"
    },
    {
     "name": "stdout",
     "output_type": "stream",
     "text": [
      "Epoch 20/20 : Train Accuracy: 98.52%, Valid Accuracy: 97.85%, Avg. Train Loss: 0.0447, Avg. Valid Loss: 0.0857\n"
     ]
    },
    {
     "data": {
      "text/plain": [
       "1"
      ]
     },
     "execution_count": 5,
     "metadata": {},
     "output_type": "execute_result"
    }
   ],
   "source": [
    "logger = TensorBoardLogger('tb_logs', name=notebook)\n",
    "model = CNN_pl()\n",
    "trainer = pl.Trainer(max_epochs=20, num_sanity_val_steps=1, logger=logger)\n",
    "trainer.fit(model)"
   ]
  },
  {
   "cell_type": "code",
   "execution_count": null,
   "metadata": {
    "ExecuteTime": {
     "end_time": "2021-03-16T16:28:16.608525Z",
     "start_time": "2021-03-16T16:28:16.606768Z"
    }
   },
   "outputs": [],
   "source": [
    "%load_ext tensorboard\n",
    "%tensorboard --logdir tb_logs --port 6006"
   ]
  }
 ],
 "metadata": {
  "kernelspec": {
   "display_name": "Python 3",
   "language": "python",
   "name": "python3"
  },
  "language_info": {
   "codemirror_mode": {
    "name": "ipython",
    "version": 3
   },
   "file_extension": ".py",
   "mimetype": "text/x-python",
   "name": "python",
   "nbconvert_exporter": "python",
   "pygments_lexer": "ipython3",
   "version": "3.8.6"
  }
 },
 "nbformat": 4,
 "nbformat_minor": 4
}
