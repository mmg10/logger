{
 "cells": [
  {
   "cell_type": "code",
   "execution_count": 1,
   "metadata": {
    "ExecuteTime": {
     "end_time": "2021-03-16T16:27:38.395058Z",
     "start_time": "2021-03-16T16:27:38.388682Z"
    }
   },
   "outputs": [],
   "source": [
    "import torch\n",
    "import torch.nn as nn\n",
    "import torch.nn.functional as F\n",
    "import torchvision\n",
    "import torchvision.transforms as transforms\n",
    "import pandas as pd\n",
    "import numpy as np\n",
    "import os\n",
    "import matplotlib.pyplot as plt\n",
    "\n",
    "import pytorch_lightning as pl\n",
    "import torchmetrics\n",
    "\n",
    "from pytorch_lightning.loggers import CSVLogger"
   ]
  },
  {
   "cell_type": "code",
   "execution_count": 2,
   "metadata": {
    "ExecuteTime": {
     "end_time": "2021-03-16T16:27:38.464439Z",
     "start_time": "2021-03-16T16:27:38.397599Z"
    }
   },
   "outputs": [
    {
     "data": {
      "application/javascript": [
       "IPython.notebook.kernel.execute('notebook = \"' + IPython.notebook.notebook_name + '\"')\n"
      ],
      "text/plain": [
       "<IPython.core.display.Javascript object>"
      ]
     },
     "metadata": {},
     "output_type": "display_data"
    }
   ],
   "source": [
    "%%javascript\n",
    "IPython.notebook.kernel.execute('notebook = \"' + IPython.notebook.notebook_name + '\"')"
   ]
  },
  {
   "cell_type": "code",
   "execution_count": 3,
   "metadata": {
    "ExecuteTime": {
     "end_time": "2021-03-16T16:27:38.525089Z",
     "start_time": "2021-03-16T16:27:38.466944Z"
    }
   },
   "outputs": [
    {
     "data": {
      "text/plain": [
       "'MNIST-Lightning-CSVLogger.ipynb'"
      ]
     },
     "execution_count": 3,
     "metadata": {},
     "output_type": "execute_result"
    }
   ],
   "source": [
    "notebook"
   ]
  },
  {
   "cell_type": "code",
   "execution_count": 4,
   "metadata": {
    "ExecuteTime": {
     "end_time": "2021-03-16T16:28:16.884649Z",
     "start_time": "2021-03-16T16:28:16.835794Z"
    }
   },
   "outputs": [],
   "source": [
    "class CNN_pl(pl.LightningModule):\n",
    "    def __init__(self):\n",
    "        super(CNN_pl, self).__init__()\n",
    "        \n",
    "        self.loss = nn.CrossEntropyLoss()\n",
    "        self.lr = 0.01\n",
    "        \n",
    "        self.train_accm = torchmetrics.Accuracy()\n",
    "        self.valid_accm = torchmetrics.Accuracy()\n",
    "        self.train_acc = 0.\n",
    "        self.avg_train_loss = 0.\n",
    "        \n",
    "        self.model = nn.Sequential(\n",
    "            nn.Flatten(),\n",
    "            nn.Linear(1 * 28 * 28, 64),\n",
    "            nn.ReLU(),\n",
    "            nn.Dropout(0.1),\n",
    "            nn.Linear(64, 64),\n",
    "            nn.ReLU(),\n",
    "            nn.Dropout(0.1),\n",
    "            nn.Linear(64, 10)\n",
    "        )\n",
    "            \n",
    "    def forward(self, X):\n",
    "        X = self.model(X)\n",
    "        return X\n",
    "    \n",
    "    def configure_optimizers(self):\n",
    "        optim = torch.optim.Adam(self.parameters())\n",
    "        return optim\n",
    "    \n",
    "    def training_step(self, batch, batch_idx):\n",
    "        inputs, targets = batch\n",
    "        output = self(inputs)\n",
    "        loss_train = self.loss(output, targets)\n",
    "        predictions = torch.argmax(output, dim=1)\n",
    "        acc_train = self.train_accm(predictions, targets)\n",
    "        return loss_train\n",
    "    \n",
    "    def validation_step(self, batch, batch_idx):\n",
    "        inputs, targets = batch\n",
    "        output = self(inputs)\n",
    "        loss_valid = self.loss(output, targets)\n",
    "        predictions = torch.argmax(output, dim=1)\n",
    "        acc_valid = self.valid_accm(predictions, targets)\n",
    "        return {\"loss\": loss_valid, \"p\": predictions, \"y\": targets}\n",
    "    \n",
    "    def training_epoch_end(self, outputs):\n",
    "        self.train_acc = self.train_accm.compute() * 100\n",
    "        self.avg_train_loss = torch.stack([x['loss'] for x in outputs]).mean()\n",
    "        self.train_accm.reset()\n",
    "        \n",
    "    def validation_epoch_end(self, outputs):\n",
    "        valid_acc = self.valid_accm.compute() * 100\n",
    "        avg_valid_loss = torch.stack([x['loss'] for x in outputs]).mean()\n",
    "        print(f'Epoch {self.current_epoch+1}/{self.trainer.max_epochs} : Train Accuracy: {self.train_acc:.2f}%, Valid Accuracy: {valid_acc:.2f}%, Avg. Train Loss: {self.avg_train_loss:.4f}, Avg. Valid Loss: {avg_valid_loss:.4f}')\n",
    "        metrics = {'epoch': self.current_epoch+1, 'Train Acc': self.train_acc, 'Train Loss': self.avg_train_loss,  'Valid Acc': valid_acc, 'Valid Loss': avg_valid_loss}\n",
    "        self.logger.log_metrics(metrics)\n",
    "        self.valid_accm.reset()\n",
    "        if self.current_epoch == self.trainer.max_epochs - 1:\n",
    "            self.validation_end(outputs)\n",
    "    \n",
    "    def validation_end(self, outputs):\n",
    "        pb = [x['p'] for x in outputs]\n",
    "        yb = [x['y'] for x in outputs]\n",
    "        p = torch.cat(pb, 0).view(-1)\n",
    "        y = torch.cat(yb, 0).view(-1)\n",
    "        # confusion matrix here!\n",
    "    \n",
    "    def prepare_data(self):\n",
    "        self.train_dataset = torchvision.datasets.MNIST(\n",
    "                    root='.',\n",
    "                    train=True,\n",
    "                    transform=transforms.ToTensor(), # This will automatically normalize data!\n",
    "                    download=True\n",
    "                    )\n",
    "        self.test_dataset  = torchvision.datasets.MNIST(\n",
    "                    root='.',\n",
    "                    train=False,\n",
    "                    transform=transforms.ToTensor(), # This will automatically normalize data!\n",
    "                    download=True\n",
    "                    )\n",
    "        \n",
    "    def train_dataloader(self):\n",
    "        train_ds = torch.utils.data.DataLoader(self.train_dataset,\n",
    "                                               batch_size= 32,\n",
    "                                               shuffle=True,\n",
    "                                               num_workers=4)\n",
    "        return train_ds\n",
    "    \n",
    "    def val_dataloader(self):\n",
    "        test_ds = torch.utils.data.DataLoader(self.test_dataset,\n",
    "                                               batch_size= 32,\n",
    "                                               shuffle=False,\n",
    "                                               num_workers=4)\n",
    "        return test_ds"
   ]
  },
  {
   "cell_type": "code",
   "execution_count": 5,
   "metadata": {
    "ExecuteTime": {
     "end_time": "2021-03-16T16:29:49.681746Z",
     "start_time": "2021-03-16T16:28:16.886150Z"
    }
   },
   "outputs": [
    {
     "name": "stderr",
     "output_type": "stream",
     "text": [
      "GPU available: False, used: False\n",
      "TPU available: None, using: 0 TPU cores\n",
      "\n",
      "  | Name       | Type             | Params\n",
      "------------------------------------------------\n",
      "0 | loss       | CrossEntropyLoss | 0     \n",
      "1 | train_accm | Accuracy         | 0     \n",
      "2 | valid_accm | Accuracy         | 0     \n",
      "3 | model      | Sequential       | 55.1 K\n",
      "------------------------------------------------\n",
      "55.1 K    Trainable params\n",
      "0         Non-trainable params\n",
      "55.1 K    Total params\n",
      "0.220     Total estimated model params size (MB)\n"
     ]
    },
    {
     "data": {
      "application/vnd.jupyter.widget-view+json": {
       "model_id": "",
       "version_major": 2,
       "version_minor": 0
      },
      "text/plain": [
       "Validation sanity check: 0it [00:00, ?it/s]"
      ]
     },
     "metadata": {},
     "output_type": "display_data"
    },
    {
     "name": "stdout",
     "output_type": "stream",
     "text": [
      "Epoch 1/20 : Train Accuracy: 0.00%, Valid Accuracy: 0.00%, Avg. Train Loss: 0.0000, Avg. Valid Loss: 2.3369\n"
     ]
    },
    {
     "data": {
      "application/vnd.jupyter.widget-view+json": {
       "model_id": "557c1cb8c489487796f27dfdf28cc000",
       "version_major": 2,
       "version_minor": 0
      },
      "text/plain": [
       "Training: 0it [00:00, ?it/s]"
      ]
     },
     "metadata": {},
     "output_type": "display_data"
    },
    {
     "data": {
      "application/vnd.jupyter.widget-view+json": {
       "model_id": "",
       "version_major": 2,
       "version_minor": 0
      },
      "text/plain": [
       "Validating: 0it [00:00, ?it/s]"
      ]
     },
     "metadata": {},
     "output_type": "display_data"
    },
    {
     "name": "stdout",
     "output_type": "stream",
     "text": [
      "Epoch 1/20 : Train Accuracy: 89.35%, Valid Accuracy: 94.78%, Avg. Train Loss: 0.3646, Avg. Valid Loss: 0.1680\n"
     ]
    },
    {
     "data": {
      "application/vnd.jupyter.widget-view+json": {
       "model_id": "",
       "version_major": 2,
       "version_minor": 0
      },
      "text/plain": [
       "Validating: 0it [00:00, ?it/s]"
      ]
     },
     "metadata": {},
     "output_type": "display_data"
    },
    {
     "name": "stdout",
     "output_type": "stream",
     "text": [
      "Epoch 2/20 : Train Accuracy: 94.78%, Valid Accuracy: 96.47%, Avg. Train Loss: 0.1702, Avg. Valid Loss: 0.1173\n"
     ]
    },
    {
     "data": {
      "application/vnd.jupyter.widget-view+json": {
       "model_id": "",
       "version_major": 2,
       "version_minor": 0
      },
      "text/plain": [
       "Validating: 0it [00:00, ?it/s]"
      ]
     },
     "metadata": {},
     "output_type": "display_data"
    },
    {
     "name": "stdout",
     "output_type": "stream",
     "text": [
      "Epoch 3/20 : Train Accuracy: 95.97%, Valid Accuracy: 96.38%, Avg. Train Loss: 0.1326, Avg. Valid Loss: 0.1138\n"
     ]
    },
    {
     "data": {
      "application/vnd.jupyter.widget-view+json": {
       "model_id": "",
       "version_major": 2,
       "version_minor": 0
      },
      "text/plain": [
       "Validating: 0it [00:00, ?it/s]"
      ]
     },
     "metadata": {},
     "output_type": "display_data"
    },
    {
     "name": "stdout",
     "output_type": "stream",
     "text": [
      "Epoch 4/20 : Train Accuracy: 96.51%, Valid Accuracy: 97.10%, Avg. Train Loss: 0.1122, Avg. Valid Loss: 0.0932\n"
     ]
    },
    {
     "data": {
      "application/vnd.jupyter.widget-view+json": {
       "model_id": "",
       "version_major": 2,
       "version_minor": 0
      },
      "text/plain": [
       "Validating: 0it [00:00, ?it/s]"
      ]
     },
     "metadata": {},
     "output_type": "display_data"
    },
    {
     "name": "stdout",
     "output_type": "stream",
     "text": [
      "Epoch 5/20 : Train Accuracy: 96.94%, Valid Accuracy: 97.35%, Avg. Train Loss: 0.0979, Avg. Valid Loss: 0.0875\n"
     ]
    },
    {
     "data": {
      "application/vnd.jupyter.widget-view+json": {
       "model_id": "",
       "version_major": 2,
       "version_minor": 0
      },
      "text/plain": [
       "Validating: 0it [00:00, ?it/s]"
      ]
     },
     "metadata": {},
     "output_type": "display_data"
    },
    {
     "name": "stdout",
     "output_type": "stream",
     "text": [
      "Epoch 6/20 : Train Accuracy: 97.13%, Valid Accuracy: 97.55%, Avg. Train Loss: 0.0910, Avg. Valid Loss: 0.0848\n"
     ]
    },
    {
     "data": {
      "application/vnd.jupyter.widget-view+json": {
       "model_id": "",
       "version_major": 2,
       "version_minor": 0
      },
      "text/plain": [
       "Validating: 0it [00:00, ?it/s]"
      ]
     },
     "metadata": {},
     "output_type": "display_data"
    },
    {
     "name": "stdout",
     "output_type": "stream",
     "text": [
      "Epoch 7/20 : Train Accuracy: 97.38%, Valid Accuracy: 97.37%, Avg. Train Loss: 0.0825, Avg. Valid Loss: 0.0889\n"
     ]
    },
    {
     "data": {
      "application/vnd.jupyter.widget-view+json": {
       "model_id": "",
       "version_major": 2,
       "version_minor": 0
      },
      "text/plain": [
       "Validating: 0it [00:00, ?it/s]"
      ]
     },
     "metadata": {},
     "output_type": "display_data"
    },
    {
     "name": "stdout",
     "output_type": "stream",
     "text": [
      "Epoch 8/20 : Train Accuracy: 97.52%, Valid Accuracy: 97.36%, Avg. Train Loss: 0.0762, Avg. Valid Loss: 0.0926\n"
     ]
    },
    {
     "data": {
      "application/vnd.jupyter.widget-view+json": {
       "model_id": "",
       "version_major": 2,
       "version_minor": 0
      },
      "text/plain": [
       "Validating: 0it [00:00, ?it/s]"
      ]
     },
     "metadata": {},
     "output_type": "display_data"
    },
    {
     "name": "stdout",
     "output_type": "stream",
     "text": [
      "Epoch 9/20 : Train Accuracy: 97.69%, Valid Accuracy: 97.23%, Avg. Train Loss: 0.0707, Avg. Valid Loss: 0.0940\n"
     ]
    },
    {
     "data": {
      "application/vnd.jupyter.widget-view+json": {
       "model_id": "",
       "version_major": 2,
       "version_minor": 0
      },
      "text/plain": [
       "Validating: 0it [00:00, ?it/s]"
      ]
     },
     "metadata": {},
     "output_type": "display_data"
    },
    {
     "name": "stdout",
     "output_type": "stream",
     "text": [
      "Epoch 10/20 : Train Accuracy: 97.76%, Valid Accuracy: 97.39%, Avg. Train Loss: 0.0696, Avg. Valid Loss: 0.0885\n"
     ]
    },
    {
     "data": {
      "application/vnd.jupyter.widget-view+json": {
       "model_id": "",
       "version_major": 2,
       "version_minor": 0
      },
      "text/plain": [
       "Validating: 0it [00:00, ?it/s]"
      ]
     },
     "metadata": {},
     "output_type": "display_data"
    },
    {
     "name": "stdout",
     "output_type": "stream",
     "text": [
      "Epoch 11/20 : Train Accuracy: 97.93%, Valid Accuracy: 97.39%, Avg. Train Loss: 0.0642, Avg. Valid Loss: 0.0913\n"
     ]
    },
    {
     "data": {
      "application/vnd.jupyter.widget-view+json": {
       "model_id": "",
       "version_major": 2,
       "version_minor": 0
      },
      "text/plain": [
       "Validating: 0it [00:00, ?it/s]"
      ]
     },
     "metadata": {},
     "output_type": "display_data"
    },
    {
     "name": "stdout",
     "output_type": "stream",
     "text": [
      "Epoch 12/20 : Train Accuracy: 98.11%, Valid Accuracy: 97.43%, Avg. Train Loss: 0.0584, Avg. Valid Loss: 0.0891\n"
     ]
    },
    {
     "data": {
      "application/vnd.jupyter.widget-view+json": {
       "model_id": "",
       "version_major": 2,
       "version_minor": 0
      },
      "text/plain": [
       "Validating: 0it [00:00, ?it/s]"
      ]
     },
     "metadata": {},
     "output_type": "display_data"
    },
    {
     "name": "stdout",
     "output_type": "stream",
     "text": [
      "Epoch 13/20 : Train Accuracy: 98.11%, Valid Accuracy: 97.56%, Avg. Train Loss: 0.0574, Avg. Valid Loss: 0.0875\n"
     ]
    },
    {
     "data": {
      "application/vnd.jupyter.widget-view+json": {
       "model_id": "",
       "version_major": 2,
       "version_minor": 0
      },
      "text/plain": [
       "Validating: 0it [00:00, ?it/s]"
      ]
     },
     "metadata": {},
     "output_type": "display_data"
    },
    {
     "name": "stdout",
     "output_type": "stream",
     "text": [
      "Epoch 14/20 : Train Accuracy: 98.22%, Valid Accuracy: 97.55%, Avg. Train Loss: 0.0549, Avg. Valid Loss: 0.0879\n"
     ]
    },
    {
     "data": {
      "application/vnd.jupyter.widget-view+json": {
       "model_id": "",
       "version_major": 2,
       "version_minor": 0
      },
      "text/plain": [
       "Validating: 0it [00:00, ?it/s]"
      ]
     },
     "metadata": {},
     "output_type": "display_data"
    },
    {
     "name": "stdout",
     "output_type": "stream",
     "text": [
      "Epoch 15/20 : Train Accuracy: 98.21%, Valid Accuracy: 97.55%, Avg. Train Loss: 0.0547, Avg. Valid Loss: 0.0912\n"
     ]
    },
    {
     "data": {
      "application/vnd.jupyter.widget-view+json": {
       "model_id": "",
       "version_major": 2,
       "version_minor": 0
      },
      "text/plain": [
       "Validating: 0it [00:00, ?it/s]"
      ]
     },
     "metadata": {},
     "output_type": "display_data"
    },
    {
     "name": "stdout",
     "output_type": "stream",
     "text": [
      "Epoch 16/20 : Train Accuracy: 98.23%, Valid Accuracy: 97.62%, Avg. Train Loss: 0.0519, Avg. Valid Loss: 0.0896\n"
     ]
    },
    {
     "data": {
      "application/vnd.jupyter.widget-view+json": {
       "model_id": "",
       "version_major": 2,
       "version_minor": 0
      },
      "text/plain": [
       "Validating: 0it [00:00, ?it/s]"
      ]
     },
     "metadata": {},
     "output_type": "display_data"
    },
    {
     "name": "stdout",
     "output_type": "stream",
     "text": [
      "Epoch 17/20 : Train Accuracy: 98.28%, Valid Accuracy: 97.62%, Avg. Train Loss: 0.0508, Avg. Valid Loss: 0.0893\n"
     ]
    },
    {
     "data": {
      "application/vnd.jupyter.widget-view+json": {
       "model_id": "",
       "version_major": 2,
       "version_minor": 0
      },
      "text/plain": [
       "Validating: 0it [00:00, ?it/s]"
      ]
     },
     "metadata": {},
     "output_type": "display_data"
    },
    {
     "name": "stdout",
     "output_type": "stream",
     "text": [
      "Epoch 18/20 : Train Accuracy: 98.39%, Valid Accuracy: 97.74%, Avg. Train Loss: 0.0492, Avg. Valid Loss: 0.0914\n"
     ]
    },
    {
     "data": {
      "application/vnd.jupyter.widget-view+json": {
       "model_id": "",
       "version_major": 2,
       "version_minor": 0
      },
      "text/plain": [
       "Validating: 0it [00:00, ?it/s]"
      ]
     },
     "metadata": {},
     "output_type": "display_data"
    },
    {
     "name": "stdout",
     "output_type": "stream",
     "text": [
      "Epoch 19/20 : Train Accuracy: 98.47%, Valid Accuracy: 97.67%, Avg. Train Loss: 0.0483, Avg. Valid Loss: 0.0905\n"
     ]
    },
    {
     "data": {
      "application/vnd.jupyter.widget-view+json": {
       "model_id": "",
       "version_major": 2,
       "version_minor": 0
      },
      "text/plain": [
       "Validating: 0it [00:00, ?it/s]"
      ]
     },
     "metadata": {},
     "output_type": "display_data"
    },
    {
     "name": "stdout",
     "output_type": "stream",
     "text": [
      "Epoch 20/20 : Train Accuracy: 98.41%, Valid Accuracy: 97.82%, Avg. Train Loss: 0.0486, Avg. Valid Loss: 0.0849\n"
     ]
    },
    {
     "data": {
      "text/plain": [
       "1"
      ]
     },
     "execution_count": 5,
     "metadata": {},
     "output_type": "execute_result"
    }
   ],
   "source": [
    "csvlogger = CSVLogger('csv_logs', name=notebook)\n",
    "model = CNN_pl()\n",
    "trainer = pl.Trainer(max_epochs=20, num_sanity_val_steps=1, logger=csvlogger)\n",
    "trainer.fit(model)"
   ]
  },
  {
   "cell_type": "code",
   "execution_count": 6,
   "metadata": {
    "ExecuteTime": {
     "end_time": "2021-03-16T16:29:49.696883Z",
     "start_time": "2021-03-16T16:29:49.683685Z"
    }
   },
   "outputs": [],
   "source": [
    "root='./csv_logs/' + notebook + '/'\n",
    "dirlist = [ item for item in os.listdir(root) if os.path.isdir(os.path.join(root, item)) ]\n",
    "metricfile = root + dirlist[-1:][0] + '/metrics.csv'\n",
    "metrics = pd.read_csv(metricfile)"
   ]
  },
  {
   "cell_type": "code",
   "execution_count": 7,
   "metadata": {
    "ExecuteTime": {
     "end_time": "2021-03-16T16:29:49.845862Z",
     "start_time": "2021-03-16T16:29:49.700590Z"
    }
   },
   "outputs": [
    {
     "data": {
      "text/html": [
       "<div>\n",
       "<style scoped>\n",
       "    .dataframe tbody tr th:only-of-type {\n",
       "        vertical-align: middle;\n",
       "    }\n",
       "\n",
       "    .dataframe tbody tr th {\n",
       "        vertical-align: top;\n",
       "    }\n",
       "\n",
       "    .dataframe thead th {\n",
       "        text-align: right;\n",
       "    }\n",
       "</style>\n",
       "<table border=\"1\" class=\"dataframe\">\n",
       "  <thead>\n",
       "    <tr style=\"text-align: right;\">\n",
       "      <th></th>\n",
       "      <th>epoch</th>\n",
       "      <th>Train Acc</th>\n",
       "      <th>Train Loss</th>\n",
       "      <th>Valid Acc</th>\n",
       "      <th>Valid Loss</th>\n",
       "      <th>step</th>\n",
       "    </tr>\n",
       "  </thead>\n",
       "  <tbody>\n",
       "    <tr>\n",
       "      <th>1</th>\n",
       "      <td>1</td>\n",
       "      <td>89.349998</td>\n",
       "      <td>0.364606</td>\n",
       "      <td>94.779999</td>\n",
       "      <td>0.167994</td>\n",
       "      <td>1</td>\n",
       "    </tr>\n",
       "    <tr>\n",
       "      <th>2</th>\n",
       "      <td>2</td>\n",
       "      <td>94.779999</td>\n",
       "      <td>0.170160</td>\n",
       "      <td>96.470001</td>\n",
       "      <td>0.117321</td>\n",
       "      <td>2</td>\n",
       "    </tr>\n",
       "    <tr>\n",
       "      <th>3</th>\n",
       "      <td>3</td>\n",
       "      <td>95.974998</td>\n",
       "      <td>0.132601</td>\n",
       "      <td>96.380005</td>\n",
       "      <td>0.113795</td>\n",
       "      <td>3</td>\n",
       "    </tr>\n",
       "    <tr>\n",
       "      <th>4</th>\n",
       "      <td>4</td>\n",
       "      <td>96.513329</td>\n",
       "      <td>0.112181</td>\n",
       "      <td>97.099998</td>\n",
       "      <td>0.093193</td>\n",
       "      <td>4</td>\n",
       "    </tr>\n",
       "    <tr>\n",
       "      <th>5</th>\n",
       "      <td>5</td>\n",
       "      <td>96.941666</td>\n",
       "      <td>0.097870</td>\n",
       "      <td>97.349998</td>\n",
       "      <td>0.087480</td>\n",
       "      <td>5</td>\n",
       "    </tr>\n",
       "    <tr>\n",
       "      <th>6</th>\n",
       "      <td>6</td>\n",
       "      <td>97.128334</td>\n",
       "      <td>0.091012</td>\n",
       "      <td>97.549995</td>\n",
       "      <td>0.084837</td>\n",
       "      <td>6</td>\n",
       "    </tr>\n",
       "    <tr>\n",
       "      <th>7</th>\n",
       "      <td>7</td>\n",
       "      <td>97.375000</td>\n",
       "      <td>0.082549</td>\n",
       "      <td>97.369995</td>\n",
       "      <td>0.088889</td>\n",
       "      <td>7</td>\n",
       "    </tr>\n",
       "    <tr>\n",
       "      <th>8</th>\n",
       "      <td>8</td>\n",
       "      <td>97.518333</td>\n",
       "      <td>0.076250</td>\n",
       "      <td>97.360001</td>\n",
       "      <td>0.092588</td>\n",
       "      <td>8</td>\n",
       "    </tr>\n",
       "    <tr>\n",
       "      <th>9</th>\n",
       "      <td>9</td>\n",
       "      <td>97.693336</td>\n",
       "      <td>0.070664</td>\n",
       "      <td>97.229996</td>\n",
       "      <td>0.093978</td>\n",
       "      <td>9</td>\n",
       "    </tr>\n",
       "    <tr>\n",
       "      <th>10</th>\n",
       "      <td>10</td>\n",
       "      <td>97.758331</td>\n",
       "      <td>0.069565</td>\n",
       "      <td>97.389999</td>\n",
       "      <td>0.088459</td>\n",
       "      <td>10</td>\n",
       "    </tr>\n",
       "  </tbody>\n",
       "</table>\n",
       "</div>"
      ],
      "text/plain": [
       "    epoch  Train Acc  Train Loss  Valid Acc  Valid Loss  step\n",
       "1       1  89.349998    0.364606  94.779999    0.167994     1\n",
       "2       2  94.779999    0.170160  96.470001    0.117321     2\n",
       "3       3  95.974998    0.132601  96.380005    0.113795     3\n",
       "4       4  96.513329    0.112181  97.099998    0.093193     4\n",
       "5       5  96.941666    0.097870  97.349998    0.087480     5\n",
       "6       6  97.128334    0.091012  97.549995    0.084837     6\n",
       "7       7  97.375000    0.082549  97.369995    0.088889     7\n",
       "8       8  97.518333    0.076250  97.360001    0.092588     8\n",
       "9       9  97.693336    0.070664  97.229996    0.093978     9\n",
       "10     10  97.758331    0.069565  97.389999    0.088459    10"
      ]
     },
     "execution_count": 7,
     "metadata": {},
     "output_type": "execute_result"
    }
   ],
   "source": [
    "metrics = metrics.drop(metrics.index[0])\n",
    "metrics.head(10)"
   ]
  },
  {
   "cell_type": "code",
   "execution_count": 8,
   "metadata": {
    "ExecuteTime": {
     "end_time": "2021-03-16T16:29:50.324168Z",
     "start_time": "2021-03-16T16:29:49.847521Z"
    }
   },
   "outputs": [
    {
     "data": {
      "image/png": "[encoded data removed]",
      "text/plain": [
       "<Figure size 432x288 with 1 Axes>"
      ]
     },
     "metadata": {},
     "output_type": "display_data"
    }
   ],
   "source": [
    "plt.plot(metrics['epoch'], metrics['Train Loss'], label=\"Train Loss\")\n",
    "plt.plot(metrics['epoch'], metrics['Valid Loss'], '-x', label=\"Valid Loss\")\n",
    "plt.xlabel('epoch')\n",
    "plt.ylabel('loss')\n",
    "plt.legend()\n",
    "plt.title('Loss vs. No. of epochs');"
   ]
  },
  {
   "cell_type": "code",
   "execution_count": 9,
   "metadata": {
    "ExecuteTime": {
     "end_time": "2021-03-16T16:29:50.467577Z",
     "start_time": "2021-03-16T16:29:50.326277Z"
    }
   },
   "outputs": [
    {
     "data": {
      "image/png": "[encoded data removed]",
      "text/plain": [
       "<Figure size 432x288 with 1 Axes>"
      ]
     },
     "metadata": {},
     "output_type": "display_data"
    }
   ],
   "source": [
    "plt.plot(metrics['epoch'], metrics['Train Acc'], label=\"Train Acc\")\n",
    "plt.plot(metrics['epoch'], metrics['Valid Acc'], '-x', label=\"Valid Acc\")\n",
    "plt.xlabel('epoch')\n",
    "plt.ylabel('accuracy')\n",
    "plt.legend()\n",
    "plt.title('Accuracy vs. No. of epochs');"
   ]
  }
 ],
 "metadata": {
  "kernelspec": {
   "display_name": "Python 3",
   "language": "python",
   "name": "python3"
  },
  "language_info": {
   "codemirror_mode": {
    "name": "ipython",
    "version": 3
   },
   "file_extension": ".py",
   "mimetype": "text/x-python",
   "name": "python",
   "nbconvert_exporter": "python",
   "pygments_lexer": "ipython3",
   "version": "3.8.6"
  }
 },
 "nbformat": 4,
 "nbformat_minor": 4
}
